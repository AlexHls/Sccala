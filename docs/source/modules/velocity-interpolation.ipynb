{
 "cells": [
  {
   "cell_type": "markdown",
   "id": "9041c03b",
   "metadata": {},
   "source": [
    "# Sccala Velocity Interpolation"
   ]
  },
  {
   "cell_type": "markdown",
   "id": "448456fe",
   "metadata": {},
   "source": [
    "This is an example how to use the `sccala-velocity-interpolation` module, which is a tool to interpolate velocities and a/e values."
   ]
  },
  {
   "cell_type": "markdown",
   "id": "d7495485",
   "metadata": {},
   "source": [
    "The easiest way to use this tool is via its CLI. Simply run\n",
    "```console\n",
    "sccala-velocity-interpolation <snname> <line>\n",
    "```"
   ]
  },
  {
   "cell_type": "markdown",
   "id": "d01e621a",
   "metadata": {},
   "source": [
    "This should interpolate the velocities or a/e values found for the given SN and line/ feature. Per default, it will return interpolated data on the interval from 20 to 60 days after explosion with a 0.1 interval. Additional rules can be added via `-r <rules-file>`"
   ]
  },
  {
   "cell_type": "markdown",
   "id": "aadfb77d",
   "metadata": {},
   "source": [
    "But you can also achieve the same result using the functions provided by the package itself:"
   ]
  },
  {
   "cell_type": "markdown",
   "id": "1dcc4950",
   "metadata": {},
   "source": [
    "`<TBD>`"
   ]
  }
 ],
 "metadata": {
  "kernelspec": {
   "display_name": "Python 3 (ipykernel)",
   "language": "python",
   "name": "python3"
  },
  "language_info": {
   "codemirror_mode": {
    "name": "ipython",
    "version": 3
   },
   "file_extension": ".py",
   "mimetype": "text/x-python",
   "name": "python",
   "nbconvert_exporter": "python",
   "pygments_lexer": "ipython3",
   "version": "3.10.5"
  }
 },
 "nbformat": 4,
 "nbformat_minor": 5
}
