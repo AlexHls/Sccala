{
 "cells": [
  {
   "cell_type": "markdown",
   "id": "9041c03b",
   "metadata": {},
   "source": [
    "# Collect SCM Data"
   ]
  },
  {
   "cell_type": "markdown",
   "id": "448456fe",
   "metadata": {},
   "source": [
    "This is an example how to use the `collect-scm-data` module, which is a tool to collect all the data necessary for the SCM into a single file."
   ]
  },
  {
   "cell_type": "markdown",
   "id": "d7495485",
   "metadata": {},
   "source": [
    "The easiest way to use this tool is via its CLI. Simply run\n",
    "```console\n",
    "collect-scm-data <sn-list> -e <export-file>\n",
    "```"
   ]
  },
  {
   "cell_type": "markdown",
   "id": "d01e621a",
   "metadata": {},
   "source": [
    "This will collect all the relevant data and store it in the specified `<export-file>` file. The output will be a CSV file, so you should select an appropriate file name."
   ]
  },
  {
   "cell_type": "markdown",
   "id": "aadfb77d",
   "metadata": {},
   "source": [
    "But you can also achieve the same result using the functions provided by the package itself:"
   ]
  },
  {
   "cell_type": "markdown",
   "id": "1dcc4950",
   "metadata": {},
   "source": [
    "`<TBD>`"
   ]
  }
 ],
 "metadata": {
  "kernelspec": {
   "display_name": "Python 3 (ipykernel)",
   "language": "python",
   "name": "python3"
  },
  "language_info": {
   "codemirror_mode": {
    "name": "ipython",
    "version": 3
   },
   "file_extension": ".py",
   "mimetype": "text/x-python",
   "name": "python",
   "nbconvert_exporter": "python",
   "pygments_lexer": "ipython3",
   "version": "3.10.5"
  }
 },
 "nbformat": 4,
 "nbformat_minor": 5
}
