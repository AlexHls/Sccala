{
 "cells": [
  {
   "cell_type": "markdown",
   "id": "e60bdcb2",
   "metadata": {},
   "source": [
    "# Sccala SCM"
   ]
  },
  {
   "cell_type": "markdown",
   "id": "9041c03b",
   "metadata": {},
   "source": [
    "This is an example how to use the `sccala-scm` module, which is the tool for standardising SNe and obtaining distance and/ or $H_0$ values."
   ]
  },
  {
   "cell_type": "markdown",
   "id": "d7495485",
   "metadata": {},
   "source": [
    "The easiest way to use this tool is via its CLI. Simply run\n",
    "```console\n",
    "sccala-scm <data-file> <model> -l <log_dir>\n",
    "```"
   ]
  },
  {
   "cell_type": "markdown",
   "id": "d01e621a",
   "metadata": {},
   "source": [
    "This will fit a standardisation `<model>` to the data given in the `<data-file>`. The sampling results will be saved in the `<log_dir>`."
   ]
  },
  {
   "cell_type": "markdown",
   "id": "aadfb77d",
   "metadata": {},
   "source": [
    "But you can also achieve the same result using the functions provided by the package itself:"
   ]
  },
  {
   "cell_type": "markdown",
   "id": "1dcc4950",
   "metadata": {},
   "source": [
    "`<TBD>`"
   ]
  }
 ],
 "metadata": {
  "kernelspec": {
   "display_name": "Python 3 (ipykernel)",
   "language": "python",
   "name": "python3"
  },
  "language_info": {
   "codemirror_mode": {
    "name": "ipython",
    "version": 3
   },
   "file_extension": ".py",
   "mimetype": "text/x-python",
   "name": "python",
   "nbconvert_exporter": "python",
   "pygments_lexer": "ipython3",
   "version": "3.10.5"
  }
 },
 "nbformat": 4,
 "nbformat_minor": 5
}
