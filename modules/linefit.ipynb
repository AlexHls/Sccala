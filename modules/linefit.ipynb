{
 "cells": [
  {
   "cell_type": "markdown",
   "id": "9041c03b",
   "metadata": {},
   "source": [
    "# Sccala Linefit"
   ]
  },
  {
   "cell_type": "markdown",
   "id": "448456fe",
   "metadata": {},
   "source": [
    "This is an example how to use the `sccala-linefit` module, which is a tool to fit absorption and emission profiles to spectra."
   ]
  },
  {
   "cell_type": "markdown",
   "id": "d7495485",
   "metadata": {},
   "source": [
    "The easiest way to use this tool is via its CLI. Simply run\n",
    "```console\n",
    "sccala-photometry <linefit_runnner_file>\n",
    "```"
   ]
  },
  {
   "cell_type": "markdown",
   "id": "d01e621a",
   "metadata": {},
   "source": [
    "This should fit a line profile for every spectrum and feature specified in the `<linefit_runner_file>` together with some diagnostic plots."
   ]
  },
  {
   "cell_type": "markdown",
   "id": "aadfb77d",
   "metadata": {},
   "source": [
    "But you can also achieve the same result using the functions provided by the package itself:"
   ]
  },
  {
   "cell_type": "markdown",
   "id": "1dcc4950",
   "metadata": {},
   "source": [
    "`<TBD>`"
   ]
  }
 ],
 "metadata": {
  "kernelspec": {
   "display_name": "Python 3 (ipykernel)",
   "language": "python",
   "name": "python3"
  },
  "language_info": {
   "codemirror_mode": {
    "name": "ipython",
    "version": 3
   },
   "file_extension": ".py",
   "mimetype": "text/x-python",
   "name": "python",
   "nbconvert_exporter": "python",
   "pygments_lexer": "ipython3",
   "version": "3.10.5"
  }
 },
 "nbformat": 4,
 "nbformat_minor": 5
}
