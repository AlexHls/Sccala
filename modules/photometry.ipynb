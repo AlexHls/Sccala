{
 "cells": [
  {
   "cell_type": "markdown",
   "id": "eb864fad",
   "metadata": {},
   "source": [
    "# Sccala Photometry"
   ]
  },
  {
   "cell_type": "markdown",
   "id": "448456fe",
   "metadata": {},
   "source": [
    "This is an example how to use the `sccala-photometry` module, which essentially is a tool to generate synthetic photometry from absolutely calibrated spectra."
   ]
  },
  {
   "cell_type": "markdown",
   "id": "d7495485",
   "metadata": {},
   "source": [
    "The easiest way to use this tool is via its CLI. Simply run\n",
    "```console\n",
    "sccala-photometry <synthetic_photometry_runnner_file> <filter_list>\n",
    "```"
   ]
  },
  {
   "cell_type": "markdown",
   "id": "d01e621a",
   "metadata": {},
   "source": [
    "This should generate synthetic photometry for every spectrum specified in the `<synthetic_photometry_runner_file>` together with some diagnostic plots."
   ]
  },
  {
   "cell_type": "markdown",
   "id": "aadfb77d",
   "metadata": {},
   "source": [
    "But you can also achieve the same result using the functions provided by the package itself:"
   ]
  },
  {
   "cell_type": "markdown",
   "id": "1dcc4950",
   "metadata": {},
   "source": [
    "`<TBD>`"
   ]
  }
 ],
 "metadata": {
  "kernelspec": {
   "display_name": "Python 3 (ipykernel)",
   "language": "python",
   "name": "python3"
  },
  "language_info": {
   "codemirror_mode": {
    "name": "ipython",
    "version": 3
   },
   "file_extension": ".py",
   "mimetype": "text/x-python",
   "name": "python",
   "nbconvert_exporter": "python",
   "pygments_lexer": "ipython3",
   "version": "3.10.5"
  }
 },
 "nbformat": 4,
 "nbformat_minor": 5
}
