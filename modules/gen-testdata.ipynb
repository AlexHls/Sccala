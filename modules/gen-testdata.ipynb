{
 "cells": [
  {
   "cell_type": "markdown",
   "id": "9041c03b",
   "metadata": {},
   "source": [
    "# Sccala Test Data Generator"
   ]
  },
  {
   "cell_type": "markdown",
   "id": "448456fe",
   "metadata": {},
   "source": [
    "This is an example how to use the `sccala-gen-testdata` module, which is a tool to generate testdata for the SCM. The testdata will be somewhat randomised, but the mean values are based on the mean values found for real data."
   ]
  },
  {
   "cell_type": "markdown",
   "id": "d7495485",
   "metadata": {},
   "source": [
    "The easiest way to use this tool is via its CLI. Simply run\n",
    "```console\n",
    "sccala-gen-testdata <zrange_low zrange_high> <exoort-file>\n",
    "```"
   ]
  },
  {
   "cell_type": "markdown",
   "id": "d01e621a",
   "metadata": {},
   "source": [
    "This will generate testdata in the redshift range `<zrange_low>` to `<zrange_high>` and save it to the `<export-file>`."
   ]
  }
 ],
 "metadata": {
  "kernelspec": {
   "display_name": "Python 3 (ipykernel)",
   "language": "python",
   "name": "python3"
  },
  "language_info": {
   "codemirror_mode": {
    "name": "ipython",
    "version": 3
   },
   "file_extension": ".py",
   "mimetype": "text/x-python",
   "name": "python",
   "nbconvert_exporter": "python",
   "pygments_lexer": "ipython3",
   "version": "3.10.5"
  }
 },
 "nbformat": 4,
 "nbformat_minor": 5
}
